{
 "cells": [
  {
   "cell_type": "markdown",
   "source": [
    "Імпортуємо усі необхідні пакети."
   ],
   "metadata": {
    "collapsed": false,
    "pycharm": {
     "name": "#%% md\n"
    }
   }
  },
  {
   "cell_type": "code",
   "execution_count": 36,
   "outputs": [],
   "source": [
    "import pandas as pd\n",
    "import matplotlib.pyplot as plt\n",
    "from pandas import DataFrame"
   ],
   "metadata": {
    "collapsed": false,
    "pycharm": {
     "name": "#%%\n"
    }
   }
  },
  {
   "cell_type": "markdown",
   "source": [
    "Зчитуємо датасет, правильно вказавши його кодування."
   ],
   "metadata": {
    "collapsed": false,
    "pycharm": {
     "name": "#%% md\n"
    }
   }
  },
  {
   "cell_type": "code",
   "execution_count": 37,
   "outputs": [
    {
     "name": "stdout",
     "output_type": "stream",
     "text": [
      "<class 'pandas.core.frame.DataFrame'>\n",
      "RangeIndex: 217 entries, 0 to 216\n",
      "Data columns (total 6 columns):\n",
      " #   Column          Non-Null Count  Dtype  \n",
      "---  ------          --------------  -----  \n",
      " 0   Country Name    217 non-null    object \n",
      " 1   Region          217 non-null    object \n",
      " 2   GDP per capita  190 non-null    object \n",
      " 3   Populatiion     216 non-null    float64\n",
      " 4   CO2 emission    205 non-null    object \n",
      " 5   Area            217 non-null    object \n",
      "dtypes: float64(1), object(5)\n",
      "memory usage: 10.3+ KB\n"
     ]
    }
   ],
   "source": [
    "def read_dataset(path: str):\n",
    "    data = pd.read_csv(path, sep=\";\", encoding='cp1252')\n",
    "    return data\n",
    "df = read_dataset(\"Data2.csv\")\n",
    "df.info()"
   ],
   "metadata": {
    "collapsed": false,
    "pycharm": {
     "name": "#%%\n"
    }
   }
  },
  {
   "cell_type": "markdown",
   "source": [
    "При дослідженні даних датасету можна помітити, що певна колонка містять помилку в назві. Також, що деякі колонки з числовими даними містять тип даних object. Щоб коректно привести їх у тип float, необхідно усюди замінити коми на крапки. Також є пропущені дані. Ще є дані, значення яких менше нуля."
   ],
   "metadata": {
    "collapsed": false,
    "pycharm": {
     "name": "#%% md\n"
    }
   }
  },
  {
   "cell_type": "code",
   "execution_count": 38,
   "outputs": [
    {
     "name": "stdout",
     "output_type": "stream",
     "text": [
      "Index(['Country Name', 'Region', 'GDP per capita', 'Population',\n",
      "       'CO2 emission', 'Area'],\n",
      "      dtype='object')\n"
     ]
    }
   ],
   "source": [
    "df = df.rename(columns={'Populatiion': 'Population'})\n",
    "print(df.columns)"
   ],
   "metadata": {
    "collapsed": false,
    "pycharm": {
     "name": "#%%\n"
    }
   }
  },
  {
   "cell_type": "markdown",
   "source": [
    "Одразу приведемо дані до типу float задля подальших операцій."
   ],
   "metadata": {
    "collapsed": false,
    "pycharm": {
     "name": "#%% md\n"
    }
   }
  },
  {
   "cell_type": "code",
   "execution_count": 40,
   "outputs": [
    {
     "name": "stdout",
     "output_type": "stream",
     "text": [
      "<class 'pandas.core.frame.DataFrame'>\n",
      "RangeIndex: 217 entries, 0 to 216\n",
      "Data columns (total 6 columns):\n",
      " #   Column          Non-Null Count  Dtype  \n",
      "---  ------          --------------  -----  \n",
      " 0   Country Name    217 non-null    object \n",
      " 1   Region          217 non-null    object \n",
      " 2   GDP per capita  190 non-null    float64\n",
      " 3   Population      216 non-null    float64\n",
      " 4   CO2 emission    205 non-null    float64\n",
      " 5   Area            217 non-null    float64\n",
      "dtypes: float64(4), object(2)\n",
      "memory usage: 10.3+ KB\n"
     ]
    }
   ],
   "source": [
    "def correct_floats_in_columns(df: DataFrame, list_of_columns: list[str]):\n",
    "    for column in list_of_columns:\n",
    "        df[column] = df[column].astype(str).str.replace(',', '.').astype(float)\n",
    "    return df\n",
    "correct_floats_in_columns(df, ['GDP per capita', 'CO2 emission', 'Area'])\n",
    "df.info()"
   ],
   "metadata": {
    "collapsed": false,
    "pycharm": {
     "name": "#%%\n"
    }
   }
  },
  {
   "cell_type": "markdown",
   "source": [
    "Тепер знайдемо рядки з пропущеною інформацією."
   ],
   "metadata": {
    "collapsed": false,
    "pycharm": {
     "name": "#%% md\n"
    }
   }
  },
  {
   "cell_type": "code",
   "execution_count": 41,
   "outputs": [
    {
     "name": "stdout",
     "output_type": "stream",
     "text": [
      "                  Country Name                      Region  GDP per capita  \\\n",
      "3               American Samoa         East Asia & Pacific    11834.745230   \n",
      "9                        Aruba   Latin America & Caribbean             NaN   \n",
      "21                     Bermuda               North America             NaN   \n",
      "27      British Virgin Islands   Latin America & Caribbean             NaN   \n",
      "36              Cayman Islands   Latin America & Caribbean             NaN   \n",
      "39             Channel Islands       Europe & Central Asia             NaN   \n",
      "49                        Cuba   Latin America & Caribbean             NaN   \n",
      "50                     Curacao   Latin America & Caribbean             NaN   \n",
      "54                    Djibouti  Middle East & North Africa             NaN   \n",
      "61                     Eritrea          Sub-Saharan Africa             NaN   \n",
      "64               Faroe Islands       Europe & Central Asia             NaN   \n",
      "68            French Polynesia         East Asia & Pacific             NaN   \n",
      "74                   Gibraltar       Europe & Central Asia             NaN   \n",
      "76                   Greenland       Europe & Central Asia             NaN   \n",
      "78                        Guam         East Asia & Pacific    35562.567530   \n",
      "93                 Isle of Man       Europe & Central Asia             NaN   \n",
      "102  Korea, Dem. People’s Rep.         East Asia & Pacific             NaN   \n",
      "104                     Kosovo       Europe & Central Asia     3661.429847   \n",
      "112                      Libya  Middle East & North Africa             NaN   \n",
      "113              Liechtenstein       Europe & Central Asia             NaN   \n",
      "130                     Monaco       Europe & Central Asia             NaN   \n",
      "140              New Caledonia         East Asia & Pacific             NaN   \n",
      "143                      Niger          Sub-Saharan Africa             NaN   \n",
      "145   Northern Mariana Islands         East Asia & Pacific    22572.378820   \n",
      "157                Puerto Rico   Latin America & Caribbean    30790.104790   \n",
      "163                 San Marino       Europe & Central Asia    47908.561410   \n",
      "171  Sint Maarten (Dutch part)   Latin America & Caribbean             NaN   \n",
      "177                South Sudan          Sub-Saharan Africa             NaN   \n",
      "182   St. Martin (French part)   Latin America & Caribbean             NaN   \n",
      "189       Syrian Arab Republic  Middle East & North Africa             NaN   \n",
      "200   Turks and Caicos Islands   Latin America & Caribbean             NaN   \n",
      "210              Venezuela, RB   Latin America & Caribbean             NaN   \n",
      "212      Virgin Islands (U.S.)   Latin America & Caribbean             NaN   \n",
      "213         West Bank and Gaza  Middle East & North Africa     2943.404534   \n",
      "\n",
      "     Population  CO2 emission       Area  \n",
      "3       55599.0           NaN      200.0  \n",
      "9      104822.0       872.746      180.0  \n",
      "21      65331.0       575.719       50.0  \n",
      "27      30661.0       179.683      150.0  \n",
      "36      60765.0       542.716      264.0  \n",
      "39     164541.0           NaN      190.0  \n",
      "49   11475982.0     34836.500   109880.0  \n",
      "50     159999.0      5881.868      444.0  \n",
      "54     942333.0       722.399    23200.0  \n",
      "61          NaN       696.730   117600.0  \n",
      "64      49117.0       597.721     1396.0  \n",
      "68     280208.0       803.073     4000.0  \n",
      "74      34408.0       528.048       10.0  \n",
      "76      56186.0       506.046   410450.0  \n",
      "78     162896.0           NaN      540.0  \n",
      "93      83737.0           NaN      570.0  \n",
      "102  25368620.0     40527.684   120540.0  \n",
      "104   1816200.0           NaN    10887.0  \n",
      "112   6293253.0     56996.181  1759540.0  \n",
      "113     37666.0        44.004      160.0  \n",
      "130     38499.0           NaN        2.0  \n",
      "140    278000.0      4290.390    18580.0  \n",
      "143  20672987.0      2126.860  1267000.0  \n",
      "145     55023.0           NaN      460.0  \n",
      "157   3411307.0           NaN     8870.0  \n",
      "163     33203.0           NaN       60.0  \n",
      "171     40005.0       733.400       34.0  \n",
      "177  12230730.0      1496.136   644330.0  \n",
      "182     31949.0           NaN       54.4  \n",
      "189  18430453.0     30703.791   185180.0  \n",
      "200     34900.0       205.352      950.0  \n",
      "210  31568179.0    185220.170   912050.0  \n",
      "212    102951.0           NaN      350.0  \n",
      "213   4551566.0           NaN     6020.0  \n"
     ]
    }
   ],
   "source": [
    "def get_missing_values(df:DataFrame):\n",
    "    return df[df.isna().any(axis = 1)]\n",
    "print(get_missing_values(df))"
   ],
   "metadata": {
    "collapsed": false,
    "pycharm": {
     "name": "#%%\n"
    }
   }
  },
  {
   "cell_type": "markdown",
   "source": [
    "Знайдемо рядки з від'ємними значеннями."
   ],
   "metadata": {
    "collapsed": false,
    "pycharm": {
     "name": "#%% md\n"
    }
   }
  },
  {
   "cell_type": "code",
   "execution_count": 42,
   "outputs": [
    {
     "name": "stdout",
     "output_type": "stream",
     "text": [
      "           Country Name                     Region  GDP per capita  \\\n",
      "56   Dominican Republic  Latin America & Caribbean    -6722.223536   \n",
      "135             Myanmar        East Asia & Pacific     1195.515372   \n",
      "\n",
      "     Population  CO2 emission      Area  \n",
      "56   10648791.0     21539.958   48670.0  \n",
      "135  52885223.0     21631.633 -676590.0  \n"
     ]
    }
   ],
   "source": [
    "def get_negative_rows(df: DataFrame):\n",
    "    return df.loc[(df['GDP per capita'] < 0) | (df['CO2 emission'] < 0) | (df['Area'] < 0)]\n",
    "print(get_negative_rows(df))"
   ],
   "metadata": {
    "collapsed": false,
    "pycharm": {
     "name": "#%%\n"
    }
   }
  },
  {
   "cell_type": "markdown",
   "source": [
    "Виправляємо усі некоректні дані. Для цього:\n",
    " - Ми уже привели дані до типу float.\n",
    " - Для кожної колонки беремо модуль усіх чисел.\n",
    " - Заповнюємо пропущені дані середніми значеннями."
   ],
   "metadata": {
    "collapsed": false,
    "pycharm": {
     "name": "#%% md\n"
    }
   }
  },
  {
   "cell_type": "code",
   "execution_count": 43,
   "outputs": [
    {
     "name": "stdout",
     "output_type": "stream",
     "text": [
      "Empty DataFrame\n",
      "Columns: [Country Name, Region, GDP per capita, Population, CO2 emission, Area]\n",
      "Index: []\n",
      "Empty DataFrame\n",
      "Columns: [Country Name, Region, GDP per capita, Population, CO2 emission, Area]\n",
      "Index: []\n"
     ]
    }
   ],
   "source": [
    "def correct_data(df: DataFrame, list_of_columns: list[str]):\n",
    "    for column in list_of_columns:\n",
    "        df[column] = df[column].abs()\n",
    "    df = df.fillna(df.mean(numeric_only=True))\n",
    "    return df\n",
    "df = correct_data(df, ['GDP per capita', 'CO2 emission', 'Area'])\n",
    "print(get_negative_rows(df))\n",
    "print(get_missing_values(df))"
   ],
   "metadata": {
    "collapsed": false,
    "pycharm": {
     "name": "#%%\n"
    }
   }
  },
  {
   "cell_type": "markdown",
   "source": [
    "Побудуємо діаграми розмаху для кожного стовпця з числовими значеннями."
   ],
   "metadata": {
    "collapsed": false,
    "pycharm": {
     "name": "#%% md\n"
    }
   }
  },
  {
   "cell_type": "code",
   "execution_count": 44,
   "id": "2533757b",
   "metadata": {
    "pycharm": {
     "name": "#%%\n"
    }
   },
   "outputs": [
    {
     "data": {
      "text/plain": "<Figure size 640x480 with 1 Axes>",
      "image/png": "[encoded data removed]"
     },
     "metadata": {},
     "output_type": "display_data"
    },
    {
     "data": {
      "text/plain": "<Figure size 640x480 with 1 Axes>",
      "image/png": "[encoded data removed]"
     },
     "metadata": {},
     "output_type": "display_data"
    },
    {
     "data": {
      "text/plain": "<Figure size 640x480 with 1 Axes>",
      "image/png": "[encoded data removed]"
     },
     "metadata": {},
     "output_type": "display_data"
    },
    {
     "data": {
      "text/plain": "<Figure size 640x480 with 1 Axes>",
      "image/png": "[encoded data removed]"
     },
     "metadata": {},
     "output_type": "display_data"
    }
   ],
   "source": [
    "for column in df.columns:\n",
    "    if df[column].dtype == float:\n",
    "        plt.figure()\n",
    "        plt.boxplot(df[column])\n",
    "        plt.title(column)\n",
    "        plt.show()"
   ]
  },
  {
   "cell_type": "markdown",
   "source": [
    "Побудуємо гістограми для кожної числової колонки"
   ],
   "metadata": {
    "collapsed": false,
    "pycharm": {
     "name": "#%% md\n"
    }
   }
  },
  {
   "cell_type": "code",
   "execution_count": 45,
   "outputs": [
    {
     "data": {
      "text/plain": "<Figure size 640x480 with 1 Axes>",
      "image/png": "[encoded data removed]"
     },
     "metadata": {},
     "output_type": "display_data"
    },
    {
     "data": {
      "text/plain": "<Figure size 640x480 with 1 Axes>",
      "image/png": "[encoded data removed]"
     },
     "metadata": {},
     "output_type": "display_data"
    },
    {
     "data": {
      "text/plain": "<Figure size 640x480 with 1 Axes>",
      "image/png": "[encoded data removed]"
     },
     "metadata": {},
     "output_type": "display_data"
    },
    {
     "data": {
      "text/plain": "<Figure size 640x480 with 1 Axes>",
      "image/png": "[encoded data removed]"
     },
     "metadata": {},
     "output_type": "display_data"
    }
   ],
   "source": [
    "for column in df.columns:\n",
    "    if df[column].dtype == float:\n",
    "        plt.hist(df[column])\n",
    "        plt.title(column)\n",
    "        plt.show()"
   ],
   "metadata": {
    "collapsed": false,
    "pycharm": {
     "name": "#%%\n"
    }
   }
  },
  {
   "cell_type": "markdown",
   "id": "502908b5",
   "metadata": {
    "pycharm": {
     "name": "#%% md\n"
    }
   },
   "source": [
    "Створимо стовпчик із щільністю населення."
   ]
  },
  {
   "cell_type": "code",
   "execution_count": 46,
   "outputs": [
    {
     "data": {
      "text/plain": "     Country Name                      Region  GDP per capita  Population  \\\n0     Afghanistan                  South Asia      561.778746  34656032.0   \n1         Albania       Europe & Central Asia     4124.982390   2876101.0   \n2         Algeria  Middle East & North Africa     3916.881571  40606052.0   \n3  American Samoa         East Asia & Pacific    11834.745230     55599.0   \n4         Andorra       Europe & Central Asia    36988.622030     77281.0   \n\n    CO2 emission       Area  Population Density  \n0    9809.225000   652860.0           53.083405  \n1    5716.853000    28750.0          100.038296  \n2  145400.217000  2381740.0           17.048902  \n3  165114.116337      200.0          277.995000  \n4     462.042000      470.0          164.427660  ",
      "text/html": "<div>\n<style scoped>\n    .dataframe tbody tr th:only-of-type {\n        vertical-align: middle;\n    }\n\n    .dataframe tbody tr th {\n        vertical-align: top;\n    }\n\n    .dataframe thead th {\n        text-align: right;\n    }\n</style>\n<table border=\"1\" class=\"dataframe\">\n  <thead>\n    <tr style=\"text-align: right;\">\n      <th></th>\n      <th>Country Name</th>\n      <th>Region</th>\n      <th>GDP per capita</th>\n      <th>Population</th>\n      <th>CO2 emission</th>\n      <th>Area</th>\n      <th>Population Density</th>\n    </tr>\n  </thead>\n  <tbody>\n    <tr>\n      <th>0</th>\n      <td>Afghanistan</td>\n      <td>South Asia</td>\n      <td>561.778746</td>\n      <td>34656032.0</td>\n      <td>9809.225000</td>\n      <td>652860.0</td>\n      <td>53.083405</td>\n    </tr>\n    <tr>\n      <th>1</th>\n      <td>Albania</td>\n      <td>Europe &amp; Central Asia</td>\n      <td>4124.982390</td>\n      <td>2876101.0</td>\n      <td>5716.853000</td>\n      <td>28750.0</td>\n      <td>100.038296</td>\n    </tr>\n    <tr>\n      <th>2</th>\n      <td>Algeria</td>\n      <td>Middle East &amp; North Africa</td>\n      <td>3916.881571</td>\n      <td>40606052.0</td>\n      <td>145400.217000</td>\n      <td>2381740.0</td>\n      <td>17.048902</td>\n    </tr>\n    <tr>\n      <th>3</th>\n      <td>American Samoa</td>\n      <td>East Asia &amp; Pacific</td>\n      <td>11834.745230</td>\n      <td>55599.0</td>\n      <td>165114.116337</td>\n      <td>200.0</td>\n      <td>277.995000</td>\n    </tr>\n    <tr>\n      <th>4</th>\n      <td>Andorra</td>\n      <td>Europe &amp; Central Asia</td>\n      <td>36988.622030</td>\n      <td>77281.0</td>\n      <td>462.042000</td>\n      <td>470.0</td>\n      <td>164.427660</td>\n    </tr>\n  </tbody>\n</table>\n</div>"
     },
     "execution_count": 46,
     "metadata": {},
     "output_type": "execute_result"
    }
   ],
   "source": [
    "df[\"Population Density\"] = df[\"Population\"] / df[\"Area\"]\n",
    "df.head()"
   ],
   "metadata": {
    "collapsed": false,
    "pycharm": {
     "name": "#%%\n"
    }
   }
  },
  {
   "cell_type": "markdown",
   "source": [
    "Пропущені значення уже були замінені на середні.\n",
    "Тепер знайдемо країну з найбільшим ВВП на людину та країну з найменшою площею."
   ],
   "metadata": {
    "collapsed": false,
    "pycharm": {
     "name": "#%% md\n"
    }
   }
  },
  {
   "cell_type": "code",
   "execution_count": 47,
   "outputs": [
    {
     "name": "stdout",
     "output_type": "stream",
     "text": [
      "Країна з найбiльшим ВВП на людину: Luxembourg\n",
      "Країна з найменшою площею: Monaco\n"
     ]
    }
   ],
   "source": [
    "row_with_max_gdp = df.loc[df['GDP per capita'].idxmax()]\n",
    "max_gdp_country = row_with_max_gdp['Country Name']\n",
    "print(\"Країна з найбiльшим ВВП на людину:\", max_gdp_country)\n",
    "\n",
    "row_with_min_area = df.loc[df['Area'].idxmin()]\n",
    "min_area_country_name = row_with_min_area['Country Name']\n",
    "print(\"Країна з найменшою площею:\", min_area_country_name)"
   ],
   "metadata": {
    "collapsed": false,
    "pycharm": {
     "name": "#%%\n"
    }
   }
  },
  {
   "cell_type": "markdown",
   "source": [
    "Знайдемо регіон, в якому середня площа країни найбільша."
   ],
   "metadata": {
    "collapsed": false,
    "pycharm": {
     "name": "#%% md\n"
    }
   }
  },
  {
   "cell_type": "code",
   "execution_count": 48,
   "outputs": [
    {
     "name": "stdout",
     "output_type": "stream",
     "text": [
      "Регiон, в якому середня площа країни найбiльша: North America\n"
     ]
    }
   ],
   "source": [
    "avg_areas_in_region = df.groupby(['Region']).mean(numeric_only=True)['Area']\n",
    "region_with_max_avg_areas = avg_areas_in_region.idxmax()\n",
    "print(\"Регiон, в якому середня площа країни найбiльша:\", region_with_max_avg_areas)"
   ],
   "metadata": {
    "collapsed": false,
    "pycharm": {
     "name": "#%%\n"
    }
   }
  },
  {
   "cell_type": "markdown",
   "source": [
    "Знайдемо країну з найбільшою щільністю населення у світі, у Європі та центральній Азії.\n"
   ],
   "metadata": {
    "collapsed": false,
    "pycharm": {
     "name": "#%% md\n"
    }
   }
  },
  {
   "cell_type": "code",
   "execution_count": 49,
   "outputs": [
    {
     "name": "stdout",
     "output_type": "stream",
     "text": [
      "Країна з найбiльшою щiльнiстю населення у свiтi: Macao SAR, China\n",
      "Країна з найбiльшою щiльнiстю населення у Європi та центральнiй Азiї: Monaco\n"
     ]
    }
   ],
   "source": [
    "max_population_density_index_world = df['Population Density'].idxmax()\n",
    "max_population_density_country_world = df.loc[max_population_density_index_world, 'Country Name']\n",
    "print(\"Країна з найбiльшою щiльнiстю населення у свiтi:\", max_population_density_country_world)\n",
    "\n",
    "df_eu_and_ca_countries = df[df['Region'] == 'Europe & Central Asia']\n",
    "max_population_density_eu_ca_index = df_eu_and_ca_countries['Population Density'].idxmax()\n",
    "max_population_density_eu_ca_country = df.loc[max_population_density_eu_ca_index, 'Country Name']\n",
    "print(\"Країна з найбiльшою щiльнiстю населення у Європi та центральнiй Азiї:\", max_population_density_eu_ca_country)\n"
   ],
   "metadata": {
    "collapsed": false,
    "pycharm": {
     "name": "#%%\n"
    }
   }
  },
  {
   "cell_type": "markdown",
   "source": [
    "Перевіримо, чи співпадає в якомусь регіоні середнє та медіана ВВП."
   ],
   "metadata": {
    "collapsed": false,
    "pycharm": {
     "name": "#%% md\n"
    }
   }
  },
  {
   "cell_type": "code",
   "execution_count": 50,
   "outputs": [
    {
     "name": "stdout",
     "output_type": "stream",
     "text": [
      "Середнє ВВП за регіоном:\n",
      " Region\n",
      "East Asia & Pacific           15130.226548\n",
      "Europe & Central Asia         22742.135518\n",
      "Latin America & Caribbean     10485.343136\n",
      "Middle East & North Africa    15459.162533\n",
      "North America                 37755.682535\n",
      "South Asia                     2795.213935\n",
      "Sub-Saharan Africa             2878.665521\n",
      "Name: GDP per capita, dtype: float64\n",
      "Медіана за регіоном:\n",
      " Region\n",
      "East Asia & Pacific            5910.620932\n",
      "Europe & Central Asia         13445.593416\n",
      "Latin America & Caribbean     10833.201075\n",
      "Middle East & North Africa    13445.593416\n",
      "North America                 42183.295100\n",
      "South Asia                     1576.608412\n",
      "Sub-Saharan Africa             1034.390361\n",
      "Name: GDP per capita, dtype: float64\n"
     ]
    }
   ],
   "source": [
    "mean_gdp_region = df.groupby(['Region']).mean(numeric_only=True)['GDP per capita']\n",
    "median_gdp_region = df.groupby(['Region']).median(numeric_only=True)['GDP per capita']\n",
    "\n",
    "print('Середнє ВВП за регіоном:\\n', mean_gdp_region)\n",
    "print('Медіана за регіоном:\\n', median_gdp_region)"
   ],
   "metadata": {
    "collapsed": false,
    "pycharm": {
     "name": "#%%\n"
    }
   }
  },
  {
   "cell_type": "code",
   "execution_count": 58,
   "outputs": [
    {
     "name": "stdout",
     "output_type": "stream",
     "text": [
      "                                    mean        median         diff\n",
      "Region                                                             \n",
      "East Asia & Pacific         15130.226548   5910.620932  9219.605616\n",
      "Europe & Central Asia       22742.135518  13445.593416  9296.542102\n",
      "Latin America & Caribbean   10485.343136  10833.201075  -347.857939\n",
      "Middle East & North Africa  15459.162533  13445.593416  2013.569117\n",
      "North America               37755.682535  42183.295100 -4427.612565\n",
      "South Asia                   2795.213935   1576.608412  1218.605523\n",
      "Sub-Saharan Africa           2878.665521   1034.390361  1844.275160\n",
      "\n",
      "Рядки, в яких різниця між середнім та медіаною дорівнює нулю:\n",
      "Empty DataFrame\n",
      "Columns: [mean, median, diff]\n",
      "Index: []\n"
     ]
    }
   ],
   "source": [
    "compare_mean_median = mean_gdp_region.compare(median_gdp_region, align_axis=1).rename(columns={'self': 'mean', 'other': 'median'}, level=-1)\n",
    "compare_mean_median['diff'] = compare_mean_median['mean'] - compare_mean_median['median']\n",
    "print(compare_mean_median)\n",
    "print(\"\\nРядки, в яких різниця між середнім та медіаною дорівнює нулю:\")\n",
    "print(compare_mean_median.loc[(compare_mean_median['diff'] == 0)])"
   ],
   "metadata": {
    "collapsed": false,
    "pycharm": {
     "name": "#%%\n"
    }
   }
  },
  {
   "cell_type": "markdown",
   "source": [
    "Тепер знайдемо регіони з найменшою різницею між mean та median."
   ],
   "metadata": {
    "collapsed": false,
    "pycharm": {
     "name": "#%% md\n"
    }
   }
  },
  {
   "cell_type": "code",
   "execution_count": 86,
   "outputs": [
    {
     "name": "stdout",
     "output_type": "stream",
     "text": [
      "                                   mean        median         diff\n",
      "Region                                                            \n",
      "Latin America & Caribbean  10485.343136  10833.201075  -347.857939\n",
      "South Asia                  2795.213935   1576.608412  1218.605523\n",
      "Sub-Saharan Africa          2878.665521   1034.390361  1844.275160\n"
     ]
    }
   ],
   "source": [
    "print(compare_mean_median.iloc[(compare_mean_median['diff']).abs().argsort()].head(3))"
   ],
   "metadata": {
    "collapsed": false,
    "pycharm": {
     "name": "#%%\n"
    }
   }
  },
  {
   "cell_type": "markdown",
   "source": [
    "Виведемо топ 5 країн та 5 останніх країн по ВВП та кількості СО2 на душу населення."
   ],
   "metadata": {
    "collapsed": false,
    "pycharm": {
     "name": "#%% md\n"
    }
   }
  },
  {
   "cell_type": "code",
   "execution_count": 87,
   "outputs": [
    {
     "name": "stdout",
     "output_type": "stream",
     "text": [
      "Топ-5 країн по ВВП на душу населення:\n",
      "         Country Name                 Region  GDP per capita  Population  \\\n",
      "115        Luxembourg  Europe & Central Asia    100738.68420    582972.0   \n",
      "188       Switzerland  Europe & Central Asia     79887.51824   8372098.0   \n",
      "116  Macao SAR, China    East Asia & Pacific     74017.18471    612167.0   \n",
      "146            Norway  Europe & Central Asia     70868.12250   5232929.0   \n",
      "92            Ireland  Europe & Central Asia     64175.43824   4773095.0   \n",
      "\n",
      "     CO2 emission      Area  Population Density  CO2 emission per capita  \n",
      "115      9658.878    2590.0          225.085714                 0.016568  \n",
      "188     35305.876   41290.0          202.763333                 0.004217  \n",
      "116      1283.450      30.3        20203.531353                 0.002097  \n",
      "146     47626.996  385178.0           13.585742                 0.009101  \n",
      "92      34066.430   70280.0           67.915410                 0.007137  \n"
     ]
    }
   ],
   "source": [
    "sorted_df_by_gdp = df.sort_values(by='GDP per capita', ascending=False)\n",
    "print('Топ-5 країн по ВВП на душу населення:')\n",
    "print(sorted_df_by_gdp.head())"
   ],
   "metadata": {
    "collapsed": false,
    "pycharm": {
     "name": "#%%\n"
    }
   }
  },
  {
   "cell_type": "code",
   "execution_count": 88,
   "outputs": [
    {
     "name": "stdout",
     "output_type": "stream",
     "text": [
      "Топ-5 країн з найменшим ВВП на душу населення:\n",
      "                 Country Name              Region  GDP per capita  Population  \\\n",
      "118                Madagascar  Sub-Saharan Africa      401.742270  24894551.0   \n",
      "37   Central African Republic  Sub-Saharan Africa      382.213174   4594621.0   \n",
      "134                Mozambique  Sub-Saharan Africa      382.069330  28829476.0   \n",
      "119                    Malawi  Sub-Saharan Africa      300.307665  18091575.0   \n",
      "31                    Burundi  Sub-Saharan Africa      285.727442  10524117.0   \n",
      "\n",
      "     CO2 emission      Area  Population Density  CO2 emission per capita  \n",
      "118      3076.613  587295.0           42.388495                 0.000124  \n",
      "37        300.694  622980.0            7.375230                 0.000065  \n",
      "134      8426.766  799380.0           36.064795                 0.000292  \n",
      "119      1276.116  118480.0          152.697291                 0.000071  \n",
      "31        440.040   27830.0          378.157276                 0.000042  \n"
     ]
    }
   ],
   "source": [
    "print('Топ-5 країн з найменшим ВВП на душу населення:')\n",
    "print(sorted_df_by_gdp.tail())"
   ],
   "metadata": {
    "collapsed": false,
    "pycharm": {
     "name": "#%%\n"
    }
   }
  },
  {
   "cell_type": "code",
   "execution_count": 82,
   "outputs": [
    {
     "name": "stdout",
     "output_type": "stream",
     "text": [
      "Топ-5 країн з найбільшою кількістю СО2 на душу населення:\n",
      "                 Country Name                     Region  GDP per capita  \\\n",
      "182  St. Martin (French part)  Latin America & Caribbean    13445.593416   \n",
      "163                San Marino      Europe & Central Asia    47908.561410   \n",
      "130                    Monaco      Europe & Central Asia    13445.593416   \n",
      "145  Northern Mariana Islands        East Asia & Pacific    22572.378820   \n",
      "3              American Samoa        East Asia & Pacific    11834.745230   \n",
      "\n",
      "     Population   CO2 emission   Area  Population Density  \\\n",
      "182     31949.0  165114.116337   54.4          587.297794   \n",
      "163     33203.0  165114.116337   60.0          553.383333   \n",
      "130     38499.0  165114.116337    2.0        19249.500000   \n",
      "145     55023.0  165114.116337  460.0          119.615217   \n",
      "3       55599.0  165114.116337  200.0          277.995000   \n",
      "\n",
      "     CO2 emission per capita  \n",
      "182                 5.168053  \n",
      "163                 4.972867  \n",
      "130                 4.288790  \n",
      "145                 3.000820  \n",
      "3                   2.969732  \n"
     ]
    }
   ],
   "source": [
    "df['CO2 emission per capita'] = df['CO2 emission'] / df['Population']\n",
    "\n",
    "sorted_df_by_CO2 = df.sort_values(['CO2 emission per capita'], ascending=False)\n",
    "print('Топ-5 країн з найбільшою кількістю СО2 на душу населення:')\n",
    "print(sorted_df_by_CO2.head())"
   ],
   "metadata": {
    "collapsed": false,
    "pycharm": {
     "name": "#%%\n"
    }
   }
  },
  {
   "cell_type": "code",
   "execution_count": 83,
   "outputs": [
    {
     "name": "stdout",
     "output_type": "stream",
     "text": [
      "Топ-5 країн з найменшою кількістю СО2 на душу населення:\n",
      "         Country Name              Region  GDP per capita    Population  \\\n",
      "44   Congo, Dem. Rep.  Sub-Saharan Africa      405.542501  7.873615e+07   \n",
      "38               Chad  Sub-Saharan Africa      664.295652  1.445254e+07   \n",
      "175           Somalia  Sub-Saharan Africa      434.208810  1.431800e+07   \n",
      "31            Burundi  Sub-Saharan Africa      285.727442  1.052412e+07   \n",
      "61            Eritrea  Sub-Saharan Africa    13445.593416  3.432256e+07   \n",
      "\n",
      "     CO2 emission       Area  Population Density  CO2 emission per capita  \n",
      "44       4671.758  2344860.0           33.578189                 0.000059  \n",
      "38        729.733  1284000.0           11.255875                 0.000050  \n",
      "175       608.722   637660.0           22.453966                 0.000043  \n",
      "31        440.040    27830.0          378.157276                 0.000042  \n",
      "61        696.730   117600.0          291.858502                 0.000020  \n"
     ]
    }
   ],
   "source": [
    "print('Топ-5 країн з найменшою кількістю СО2 на душу населення:')\n",
    "print(sorted_df_by_CO2.tail())"
   ],
   "metadata": {
    "collapsed": false,
    "pycharm": {
     "name": "#%%\n"
    }
   }
  }
 ],
 "metadata": {
  "kernelspec": {
   "display_name": "Python 3 (ipykernel)",
   "language": "python",
   "name": "python3"
  },
  "language_info": {
   "codemirror_mode": {
    "name": "ipython",
    "version": 3
   },
   "file_extension": ".py",
   "mimetype": "text/x-python",
   "name": "python",
   "nbconvert_exporter": "python",
   "pygments_lexer": "ipython3",
   "version": "3.10.6"
  }
 },
 "nbformat": 4,
 "nbformat_minor": 5
}